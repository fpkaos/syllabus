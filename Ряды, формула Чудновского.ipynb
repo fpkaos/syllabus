{
 "cells": [
  {
   "cell_type": "markdown",
   "metadata": {},
   "source": [
    "<div style=\"font-size:2rem;\">\n",
    "    <div style=\"border-radius: 10px; \n",
    "                background-color:#D7FF9A;\n",
    "                text-align:center;\n",
    "                display:inline-block;\n",
    "                width:300px;\n",
    "                height:60px;\n",
    "                padding-top:13px\" id=\"f-part\">\n",
    "    $\\frac{1}{1}-\\frac{1}{3}+\\frac{1}{5}-\\frac{1}{7}+\\frac{1}{9}-...= $</div>\n",
    "    <div style=\"display:inline-block\">$\\frac{\\pi}{4}$</div>\n",
    "</div>"
   ]
  },
  {
   "cell_type": "code",
   "execution_count": null,
   "metadata": {},
   "outputs": [],
   "source": []
  }
 ],
 "metadata": {
  "kernelspec": {
   "display_name": "Python 3",
   "language": "python",
   "name": "python3"
  },
  "language_info": {
   "codemirror_mode": {
    "name": "ipython",
    "version": 3
   },
   "file_extension": ".py",
   "mimetype": "text/x-python",
   "name": "python",
   "nbconvert_exporter": "python",
   "pygments_lexer": "ipython3",
   "version": "3.7.3"
  }
 },
 "nbformat": 4,
 "nbformat_minor": 2
}
