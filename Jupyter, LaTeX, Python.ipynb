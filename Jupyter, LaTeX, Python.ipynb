{
 "cells": [
  {
   "cell_type": "markdown",
   "metadata": {},
   "source": [
    "# Конспектирование лекций в Jupiter Notebook\n",
    "\n",
    "\n",
    "Помимо исполнения Python-кода и построения графиков при помощи **matplotlib**, формат ноутбуков поддерживает возможность вставки в формате **Markdown** и **LaTeX**, что делает его прекрасным инструментом для конспектирования лекций.\n"
   ]
  },
  {
   "cell_type": "markdown",
   "metadata": {},
   "source": [
    "## Разметка\n",
    "\n",
    "Поскольку Markdown является надстройкой над HTML, возможно <span style=\"border-radius: 10px; background-color:#D7FF9A;\">*совмещать*</span> их."
   ]
  },
  {
   "cell_type": "markdown",
   "metadata": {},
   "source": [
    "## Javascript"
   ]
  },
  {
   "cell_type": "code",
   "execution_count": 1,
   "metadata": {},
   "outputs": [
    {
     "data": {
      "application/javascript": [
       "alert(\"Код JS внутри ноутбука\");"
      ],
      "text/plain": [
       "<IPython.core.display.Javascript object>"
      ]
     },
     "metadata": {},
     "output_type": "display_data"
    }
   ],
   "source": [
    "from IPython.display import Javascript, display\n",
    "display(Javascript('alert(\"Код JS внутри ноутбука\");'))"
   ]
  },
  {
   "cell_type": "markdown",
   "metadata": {},
   "source": [
    "## Простые выражения в LaTeX\n",
    "\n",
    "### Вставка\n",
    "\n",
    "Верстка осуществляется в *Markdown Сells*, либо непосредственной вставкой в маркдаун благодаря *MathJax*:\n",
    "\n",
    "\\begin{equation}\n",
    "\\label{eq:solv}\n",
    " x_{1,2}=\\frac{-b\\pm\\sqrt{b^2-4ac}}{2a}\n",
    "\\end{equation}\n",
    "\n",
    "либо обрамляя инлайн-символом \"$\":\n",
    "\n",
    "$\\begin{equation}\n",
    " x_{1,2}=\\frac{-b\\pm\\sqrt{b^2-4ac}}{2a}\n",
    "\\end{equation}$\n",
    "\n",
    "### Синтаксис\n",
    "\n",
    "`\\begin{equation}` \\- начало _**преамбулы**_. В скобках могут находиться значения `document`, `title`, `figure`, `matrix` и т.д.\n",
    "\n",
    "Завершается блок `\\end{equation}`.\n",
    "\n",
    "`\\label{eq:solv}` \\- _**ярлык**_ объекта, используется для ссылок `~\\ref{eq:solv}`. Здесь не работает(?).\n",
    "\n",
    "![](images/latex.png)\n",
    "\n",
    "\n",
    "### Полезные ссылки\n",
    "\n",
    "1. _[Полный каталог выражений](https://katex.org/docs/supported.html)_\n",
    "2. _[Учебник](https://en.wikibooks.org/wiki/LaTeX)_\n",
    "3. _[Не очень краткое введение в LATEX2e](http://www.nsc.ru/win/docs/TeX/Tobias/lshort2e.html)_\n",
    "4. _[Как я пишу конспекты по математике на LaTeX в Vim](https://habr.com/ru/post/445066/)_\n"
   ]
  },
  {
   "cell_type": "markdown",
   "metadata": {},
   "source": [
    "## Python\n",
    "\n",
    "### IPython\n",
    "\n",
    "`%lsmagic` \\- отобразить список доступных [магических команд](https://ipython.org/ipython-doc/3/interactive/magics.html):\n",
    "\n",
    "\n",
    ">`%run` \\- выполнить .py-скрипт или .ipynb-ноутбук\n",
    ">\n",
    ">`%load` \\- загрузить код в ячейку\n",
    ">\n",
    ">``%%time`` и `%timeit` используются для оценки работы скрипта и отдельного куска кода соответственно\n",
    ">\n",
    ">`%%writefile pythoncode.py`\n",
    "\n",
    "\n",
    "`! cmd` \\- выполнить команду в шелле или использовать `%%bash`\n",
    "\n",
    "### [MicroPython](https://en.wikipedia.org/wiki/MicroPython)"
   ]
  },
  {
   "cell_type": "markdown",
   "metadata": {},
   "source": [
    "## SymPy\n",
    "\n",
    "![](images/sympy.png)\n",
    "[Символьные вычисления средствами Python](https://habr.com/ru/post/423731/)"
   ]
  },
  {
   "cell_type": "markdown",
   "metadata": {},
   "source": [
    "## Публикация\n",
    "\n",
    "Такие сервисы, как [mybinder](http://mybinder.org/), предоставляют доступ к Jupiter Notebook со всеми установленными библиотеками, так что пользователь может с полчаса поиграться с вашим кодом, имея под рукой только браузер.\n",
    "\n",
    "Вы также можете установить вашу собственную системы с помощью [jupyterhub](https://github.com/jupyterhub/jupyterhub), что очень удобно, если вы проводите мини-курс или мастер-класс и вам некогда думать о машинах для студентов.\n",
    "\n",
    "Есть еще https://gist.github.com/ и https://nbviewer.jupyter.org/"
   ]
  },
  {
   "cell_type": "markdown",
   "metadata": {},
   "source": [
    "## Matplotlib\n",
    "\n",
    "[Краткая справка](https://pythonworld.ru/novosti-mira-python/scientific-graphics-in-python.html)"
   ]
  },
  {
   "cell_type": "code",
   "execution_count": 4,
   "metadata": {},
   "outputs": [
    {
     "name": "stdout",
     "output_type": "stream",
     "text": [
      "Current version on matplotlib library is 3.1.0\n"
     ]
    }
   ],
   "source": [
    "import matplotlib as mpl\n",
    "print('Current version on matplotlib library is', mpl.__version__)"
   ]
  },
  {
   "cell_type": "markdown",
   "metadata": {},
   "source": [
    "## Диаграммы"
   ]
  },
  {
   "cell_type": "code",
   "execution_count": 14,
   "metadata": {},
   "outputs": [
    {
     "name": "stdout",
     "output_type": "stream",
     "text": [
      "[1, 2, 2, 2, 3]\n"
     ]
    }
   ],
   "source": [
    "import matplotlib.pyplot as plt\n",
    "import numpy as np\n",
    "\n",
    "z = [1,2,2,2,3]\n",
    "print(z)"
   ]
  },
  {
   "cell_type": "code",
   "execution_count": 13,
   "metadata": {},
   "outputs": [
    {
     "data": {
      "image/png": "[encoded data removed]",
      "text/plain": [
       "<Figure size 432x288 with 1 Axes>"
      ]
     },
     "metadata": {
      "needs_background": "light"
     },
     "output_type": "display_data"
    }
   ],
   "source": [
    "fig = plt.figure()\n",
    "plt.hist(z)\n",
    "plt.title('Simple histogramm')\n",
    "plt.grid(True)"
   ]
  },
  {
   "cell_type": "code",
   "execution_count": 16,
   "metadata": {},
   "outputs": [
    {
     "data": {
      "text/plain": [
       "Text(0.5, 1.0, 'Simple pie chart')"
      ]
     },
     "execution_count": 16,
     "metadata": {},
     "output_type": "execute_result"
    },
    {
     "data": {
      "image/png": "[encoded data removed]",
      "text/plain": [
       "<Figure size 432x288 with 1 Axes>"
      ]
     },
     "metadata": {},
     "output_type": "display_data"
    }
   ],
   "source": [
    "fig = plt.figure()\n",
    "plt.pie(z, labels=z)\n",
    "plt.title('Simple pie chart')"
   ]
  },
  {
   "cell_type": "markdown",
   "metadata": {},
   "source": [
    "## Графики функций\n",
    "\n",
    "Для примера вычислим значение производной в точке:\n",
    "\n",
    "\\begin{equation}\n",
    "f'(x_{0}) = \\lim_{\\substack{\\Delta{x}\\to{0}}}{\\frac{\\Delta{f(x_{0})}}{\\Delta{x}}} = \\lim_{\\substack{\\Delta{x}\\to{0}}}{\\frac{f(x_0+\\Delta{x}) - f(x_0)}{\\Delta{x}}}\n",
    "\\end{equation}"
   ]
  },
  {
   "cell_type": "code",
   "execution_count": 22,
   "metadata": {},
   "outputs": [
    {
     "data": {
      "text/plain": [
       "[<matplotlib.lines.Line2D at 0x19442570518>]"
      ]
     },
     "execution_count": 22,
     "metadata": {},
     "output_type": "execute_result"
    },
    {
     "data": {
      "image/png": "[encoded data removed]",
      "text/plain": [
       "<Figure size 432x288 with 1 Axes>"
      ]
     },
     "metadata": {
      "needs_background": "light"
     },
     "output_type": "display_data"
    }
   ],
   "source": [
    "import numpy as np\n",
    "import matplotlib.pyplot as plt\n",
    "\n",
    "def f(x):\n",
    "    return x ** 2\n",
    "\n",
    "\n",
    "def gen_dx(deph=4):\n",
    "    return [pow(10, -i) for i in range(0, deph)]\n",
    "\n",
    "\n",
    "def g(x):\n",
    "    return a*x + b\n",
    "\n",
    "x0 = 3\n",
    "a = (f(x0 + gen_dx(4)[3] - f(x0)) / gen_dx(4)[3])\n",
    "b = f(x0) - a*x0\n",
    "x = np.arange(-1, 2, 0.01)\n",
    "\n",
    "plt.plot(x, f(x))\n",
    "plt.plot(x, g(x))"
   ]
  }
 ],
 "metadata": {
  "kernelspec": {
   "display_name": "Python 3",
   "language": "python",
   "name": "python3"
  },
  "language_info": {
   "codemirror_mode": {
    "name": "ipython",
    "version": 3
   },
   "file_extension": ".py",
   "mimetype": "text/x-python",
   "name": "python",
   "nbconvert_exporter": "python",
   "pygments_lexer": "ipython3",
   "version": "3.7.3"
  }
 },
 "nbformat": 4,
 "nbformat_minor": 2
}
