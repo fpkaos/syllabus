{
 "cells": [
  {
   "cell_type": "markdown",
   "metadata": {},
   "source": [
    "**ratio** \\- отношение\n",
    "\n",
    "**area** \\- площадь\n",
    "\n",
    "**(ir)regular ploygon** \\- (не)правильный многоугольник\n",
    "\n",
    "**convex** \\- выпуклый\n",
    "\n",
    "**concave** \\- вогнутый\n",
    "\n",
    "**interior (exterior) angle** \\- внутренний (внешний) угол\n",
    "\n",
    "**circumference** \\- длина окружности\n",
    "\n",
    "**midpoint** \\- середина\n",
    "\n",
    "**quadrilateral** \\- четырехугольник\n",
    "\n",
    "**tessellation** \\- замощение\n",
    "\n",
    "**face** \\- грань\n",
    "\n",
    "**sequence** \\- последовательность (ряд)\n",
    "\n",
    "**plane** \\- плоскость\n",
    "\n",
    "**difference of squares** \\- разность квадратов"
   ]
  },
  {
   "cell_type": "code",
   "execution_count": null,
   "metadata": {},
   "outputs": [],
   "source": []
  }
 ],
 "metadata": {
  "kernelspec": {
   "display_name": "Python 3",
   "language": "python",
   "name": "python3"
  },
  "language_info": {
   "codemirror_mode": {
    "name": "ipython",
    "version": 3
   },
   "file_extension": ".py",
   "mimetype": "text/x-python",
   "name": "python",
   "nbconvert_exporter": "python",
   "pygments_lexer": "ipython3",
   "version": "3.7.3"
  }
 },
 "nbformat": 4,
 "nbformat_minor": 2
}
