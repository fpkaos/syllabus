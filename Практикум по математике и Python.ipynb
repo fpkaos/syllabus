{
 "cells": [
  {
   "cell_type": "markdown",
   "metadata": {},
   "source": [
    "### [Задача 1.4.6](https://stepik.org/lesson/113187/step/6)\n",
    "\n",
    "Напишите такую функцию counter(T):\n",
    "\n",
    "- принимающую на вход кортеж, состоящий из строк латинского алфавита, например, (\"ABC\", \"abc\")\n",
    "- приводящую строки к единому (верхнему, либо нижнему) регистру\n",
    "- определяющую число уникальных символов латинского алфавита для каждой строки (строка \"Aaa\" содержит всего 1 уникальный символ)\n",
    "- возвращающую длину строки с максимальным числом уникальных символов (если таких строк несколько, то самой длинной из них)\n"
   ]
  },
  {
   "cell_type": "code",
   "execution_count": 2,
   "metadata": {},
   "outputs": [],
   "source": [
    "def counter(T):\n",
    "    unik = {}\n",
    "    for str in T:\n",
    "        l = len(''.join(set(str.upper())))\n",
    "        if l not in unik.keys() or unik[l] < len(str):\n",
    "            unik[l] = len(str)\n",
    "    return unik[max(unik)]"
   ]
  },
  {
   "cell_type": "code",
   "execution_count": 3,
   "metadata": {},
   "outputs": [
    {
     "name": "stdout",
     "output_type": "stream",
     "text": [
      "5\n"
     ]
    }
   ],
   "source": [
    "print(counter(('aaaaaaaaaaa', 'ababa', 'ab')))"
   ]
  },
  {
   "cell_type": "markdown",
   "metadata": {},
   "source": [
    "### [Задача 1.4.8](https://stepik.org/lesson/113187/step/8)\n",
    "\n",
    "Прочитайте содержимое файла file.txt, содержащий 3 строки:\n",
    "\n",
    "- имя файла с текстом\n",
    "- имя файла, куда необходимо дозаписать ответ (сохранив начало файла)\n",
    "- номер строки (из файла с текстом), которую надо привести к нижнему регистру и дозаписать в файл ответа\n",
    "\n",
    "Строки, как и элементы массива, нумеруются с 0\n"
   ]
  },
  {
   "cell_type": "code",
   "execution_count": null,
   "metadata": {},
   "outputs": [],
   "source": [
    "with open('file.txt', 'r') as f:\n",
    "    with open(f.readline()[:-1], 'r') as tf:\n",
    "        with open(f.readline()[:-1], 'a') as af:\n",
    "            page = int(f.readline())\n",
    "            af.write(tf.readlines()[page])"
   ]
  },
  {
   "cell_type": "markdown",
   "metadata": {},
   "source": [
    "### [Задача 2.7.9](https://stepik.org/lesson/59468/step/9)\n",
    "\n",
    "Напишите функцию для нахождения [кратного факториала](https://ru.wikipedia.org/wiki/%D0%A4%D0%B0%D0%BA%D1%82%D0%BE%D1%80%D0%B8%D0%B0%D0%BB#.D0.9A.D1.80.D0.B0.D1.82.D0.BD.D1.8B.D0.B9_.D1.84.D0.B0.D0.BA.D1.82.D0.BE.D1.80.D0.B8.D0.B0.D0.BB) числа Kfactorial.\n",
    "\n",
    "\\begin{equation}\n",
    "n\\underbrace{!!\\ldots !}_m = \\prod_{i=1}^k (mi-r)\n",
    "\\end{equation}\n",
    "\n",
    "Функция factorial должна иметь 2 параметра:\n",
    "\n",
    "- n \\- число для которого вычисляется факториал (обязательный)\n",
    "- k \\- кратность факториала (необязательный, значение по-умолчанию - 1)\n",
    "\n",
    "По сути кратный факториал это продолжение идеи двойного факториала. Только теперь \"шаг\" при вычислении не 2, а k."
   ]
  },
  {
   "cell_type": "code",
   "execution_count": null,
   "metadata": {},
   "outputs": [],
   "source": [
    "def Kfactorial(n, k=1):\n",
    "    if n <= k:\n",
    "        if n:\n",
    "            return n\n",
    "        else:\n",
    "            return 1\n",
    "    else:\n",
    "        return n * Kfactorial(n - k, k)"
   ]
  },
  {
   "cell_type": "code",
   "execution_count": 5,
   "metadata": {},
   "outputs": [
    {
     "data": {
      "text/plain": [
       "80"
      ]
     },
     "execution_count": 5,
     "metadata": {},
     "output_type": "execute_result"
    }
   ],
   "source": [
    "Kfactorial(8,3)"
   ]
  },
  {
   "cell_type": "markdown",
   "metadata": {},
   "source": [
    "### [Задача 3.1.2](https://stepik.org/lesson/57431/step/2)\n",
    "\n",
    "\\begin{equation}\n",
    "f(x) = \\frac{e^x - 1}{x}, \\lim_{\\substack{x\\to{0}}}{f(x)} = ?\n",
    "\\end{equation}"
   ]
  },
  {
   "cell_type": "code",
   "execution_count": 13,
   "metadata": {},
   "outputs": [
    {
     "name": "stdout",
     "output_type": "stream",
     "text": [
      "Предел справа (при x > x0):\n",
      "\n",
      "1.718281828459045\n",
      "1.0517091807564771\n",
      "1.005016708416795\n",
      "1.0005001667083846\n",
      "\n",
      "Предел слева:\n",
      "\n",
      "0.6321205588285577\n",
      "0.9516258196404048\n",
      "0.9950166250831893\n",
      "0.9995001666249781\n"
     ]
    }
   ],
   "source": [
    "from math import exp\n",
    "def f(x):\n",
    "    return (exp(x) - 1)/x\n",
    "\n",
    "print('Предел справа (при x > x0):\\n')\n",
    "x0 = 0\n",
    "dx_list = [1, 0.1, 0.01, 0.001]\n",
    "for dx in dx_list:\n",
    "    print(f(x0+dx))\n",
    "print('\\nПредел слева:\\n')\n",
    "for dx in dx_list:\n",
    "    print(f(x0-dx))"
   ]
  },
  {
   "cell_type": "markdown",
   "metadata": {},
   "source": [
    "### [Задача 3.1.3](https://stepik.org/lesson/57431/step/3)\n",
    "\n",
    "\\begin{equation}\n",
    "f'(x_{0}) = \\lim_{\\substack{\\Delta{x}\\to{0}}}{\\frac{\\Delta{f(x_{0})}}{\\Delta{x}}} = \\lim_{\\substack{\\Delta{x}\\to{0}}}{\\frac{f(x_0+\\Delta{x}) - f(x_0)}{\\Delta{x}}}\n",
    "\\end{equation}\n",
    "\n",
    "$f(x)=x^2, f'(3)=?$"
   ]
  },
  {
   "cell_type": "code",
   "execution_count": 16,
   "metadata": {},
   "outputs": [
    {
     "data": {
      "text/plain": [
       "[<matplotlib.lines.Line2D at 0x2a3c8d43828>]"
      ]
     },
     "execution_count": 16,
     "metadata": {},
     "output_type": "execute_result"
    },
    {
     "data": {
      "image/png": "[encoded data removed]",
      "text/plain": [
       "<Figure size 432x288 with 1 Axes>"
      ]
     },
     "metadata": {
      "needs_background": "light"
     },
     "output_type": "display_data"
    }
   ],
   "source": [
    "import numpy as np\n",
    "import matplotlib.pyplot as plt\n",
    "%matplotlib inline\n",
    "\n",
    "def f(x):\n",
    "    return x ** 2\n",
    "\n",
    "\n",
    "def gen_dx(deph=4):\n",
    "    return [pow(10, -i) for i in range(0, deph)]\n",
    "\n",
    "\n",
    "def g(x):\n",
    "    return a*x + b\n",
    "\n",
    "x0 = 3\n",
    "a = (f(x0 + gen_dx(4)[3] - f(x0)) / gen_dx(4)[3])\n",
    "b = f(x0) - a*x0\n",
    "\n",
    "x = np.arange(-1, 2, 0.01)\n",
    "plt.plot(x, f(x))\n",
    "plt.plot(x, g(x))"
   ]
  },
  {
   "cell_type": "markdown",
   "metadata": {},
   "source": [
    "### [Задача 4.3.2](https://stepik.org/lesson/178503/step/2)\n",
    "\n",
    "Найти n-ое число из [Последовательности Люка](https://ru.wikipedia.org/wiki/%D0%9F%D0%BE%D1%81%D0%BB%D0%B5%D0%B4%D0%BE%D0%B2%D0%B0%D1%82%D0%B5%D0%BB%D1%8C%D0%BD%D0%BE%D1%81%D1%82%D1%8C_%D0%9B%D1%8E%D0%BA%D0%B0)\n",
    "\n",
    "\\begin{equation}\n",
    "L_n = L_{n-1} + L_{n-2}\n",
    "\\end{equation}\n",
    "\n",
    "Напишите функцию luka(L0, L1, n), которая принимает на вход параметры:\n",
    "\n",
    "- L0, L1 - 0й и 1й члены последовательности соответственно\n",
    "- n - номер числа из последовательности, которое необходимо вернуть"
   ]
  },
  {
   "cell_type": "code",
   "execution_count": 17,
   "metadata": {},
   "outputs": [
    {
     "name": "stdout",
     "output_type": "stream",
     "text": [
      "89\n"
     ]
    }
   ],
   "source": [
    "def luka(L0, L1, n):\n",
    "    if n == 0:\n",
    "        return L0\n",
    "    elif n == 1:\n",
    "        return L1\n",
    "    else:\n",
    "        return luka(L0,L1,n-1) + luka(L0,L1,n-2)\n",
    "    \n",
    "print(luka(1,1,10))"
   ]
  },
  {
   "cell_type": "markdown",
   "metadata": {},
   "source": [
    "### [Задача 3.2.2](https://stepik.org/lesson/52983/step/2)\n",
    "\n",
    "\\begin{equation}\n",
    "f(x)=2\\arctan{(x)}, \\lim_{\\substack{x\\to{+\\infty}}}{2\\arctan{(x)}} = ?\n",
    "\\end{equation}\n",
    "\n",
    "Ответ округлите до 3 знака после запятой"
   ]
  },
  {
   "cell_type": "code",
   "execution_count": 22,
   "metadata": {},
   "outputs": [
    {
     "name": "stdout",
     "output_type": "stream",
     "text": [
      "3.142\n"
     ]
    }
   ],
   "source": [
    "import math\n",
    "from numpy import around\n",
    "\n",
    "def f(x):\n",
    "    return 2 * math.atan(x)\n",
    "\n",
    "\n",
    "lim = f(float('+inf'))\n",
    "print(around(lim,3))"
   ]
  },
  {
   "cell_type": "code",
   "execution_count": 24,
   "metadata": {},
   "outputs": [
    {
     "name": "stdout",
     "output_type": "stream",
     "text": [
      "3.142\n"
     ]
    }
   ],
   "source": [
    "from math import atan\n",
    "def f(x):\n",
    "    return 2 * atan(x)\n",
    "\n",
    "delta = []\n",
    "x0 = 100000\n",
    "dx_list = [pow(0.001, i) for i in range(0, 6)]\n",
    "\n",
    "for dx in dx_list:\n",
    "    delta.append(f(x0+dx)) \n",
    "lim = round(sum(delta)/len(delta),3)\n",
    "\n",
    "print (lim)"
   ]
  },
  {
   "cell_type": "markdown",
   "metadata": {},
   "source": [
    "### [Задача 3.2.3](https://stepik.org/lesson/52983/step/3)\n",
    "\n",
    "Проверьте (для нескольких разных точек), что производная от $e^x$ совпадает с исходной функцией, т.е. $(e^x)′=e^x$\n",
    "\n",
    "Для этого реализуйте функцию def_e(x), находящую численное значение производной (с точностью до 3 знака) в точке x."
   ]
  },
  {
   "cell_type": "code",
   "execution_count": 26,
   "metadata": {},
   "outputs": [
    {
     "name": "stdout",
     "output_type": "stream",
     "text": [
      "20.086\n"
     ]
    }
   ],
   "source": [
    "from math import exp\n",
    "def def_e(x, dx=0.00001):\n",
    "    return round((exp(x + dx) - exp(x)) / dx, 3)\n",
    "\n",
    "print(def_e(3))"
   ]
  },
  {
   "cell_type": "code",
   "execution_count": null,
   "metadata": {},
   "outputs": [],
   "source": []
  }
 ],
 "metadata": {
  "kernelspec": {
   "display_name": "Python 3",
   "language": "python",
   "name": "python3"
  },
  "language_info": {
   "codemirror_mode": {
    "name": "ipython",
    "version": 3
   },
   "file_extension": ".py",
   "mimetype": "text/x-python",
   "name": "python",
   "nbconvert_exporter": "python",
   "pygments_lexer": "ipython3",
   "version": "3.7.3"
  }
 },
 "nbformat": 4,
 "nbformat_minor": 2
}
