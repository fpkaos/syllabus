{
 "cells": [
  {
   "cell_type": "markdown",
   "metadata": {},
   "source": [
    "## Определение\n",
    "\n",
    "> **Группа** (Group) - это математический обьект, описывающий _симметрии_. Поскольку симметрия это твердое преобразование (rigid transformation), оно является _функцией_.\n",
    "\n",
    "> **Симметрия** (Symmetry) - это [твердое преобразование](https://study.com/academy/lesson/basic-rigid-transformations-reflections-rotations-translations.html) объекта на самого себя.\n",
    "\n",
    "Помимо поворота и отражения, существует так же **identity transformation**, которая \"ничего не делает\" с объектом.\n",
    "\n",
    "> [**Симметрическая группа**](https://ru.wikipedia.org/wiki/%D0%A1%D0%B8%D0%BC%D0%BC%D0%B5%D1%82%D1%80%D0%B8%D1%87%D0%B5%D1%81%D0%BA%D0%B0%D1%8F_%D0%B3%D1%80%D1%83%D0%BF%D0%BF%D0%B0) (Symmetric group) — группа всех перестановок заданного множества $\\{1,2,..n\\}$ относительно операции композиции. \n",
    "\n",
    "**Пример**\n",
    "\n",
    "$ n = 3, S_3 = \\{1,2,3\\}$\n",
    "\n",
    "$Bijection\\ maps\\ 1\\ to\\ 2,\\ 2\\ to\\ 3,\\ 3\\ to\\ 1:$\n",
    "\n",
    "\\begin{equation}\n",
    "\\phi^1 = \\{3,2,1\\},\n",
    "\\\\\n",
    "\\phi^2 = \\{2,3,1\\},\n",
    "\\\\\n",
    "\\phi^3 = \\{1,2,3\\}, etc\n",
    "\\end{equation}"
   ]
  },
  {
   "cell_type": "code",
   "execution_count": null,
   "metadata": {},
   "outputs": [],
   "source": []
  }
 ],
 "metadata": {
  "kernelspec": {
   "display_name": "Python 3",
   "language": "python",
   "name": "python3"
  },
  "language_info": {
   "codemirror_mode": {
    "name": "ipython",
    "version": 3
   },
   "file_extension": ".py",
   "mimetype": "text/x-python",
   "name": "python",
   "nbconvert_exporter": "python",
   "pygments_lexer": "ipython3",
   "version": "3.7.3"
  }
 },
 "nbformat": 4,
 "nbformat_minor": 2
}
