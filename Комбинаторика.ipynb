{
 "cells": [
  {
   "cell_type": "markdown",
   "metadata": {},
   "source": [
    "## Перестановки \n",
    "*Перестановкой* множества из $n$ элементов называется кортеж без повторений чисел ${\\displaystyle 1,2,\\ldots ,n}$\n",
    "\n",
    "Число всех перестановок из $n$ элементов обозначается $P_n$ (от начальной буквы французского слова “permutation”, что значит “перестановка”, “перемещение”):\n",
    "\n",
    "\\begin{equation}\n",
    "P_n = n!\n",
    "\\end{equation}"
   ]
  },
  {
   "cell_type": "code",
   "execution_count": 27,
   "metadata": {},
   "outputs": [],
   "source": [
    "def permutation(x):\n",
    "    if x >= 2:\n",
    "        return x * permutation(x - 1)\n",
    "    else:\n",
    "        return 1"
   ]
  },
  {
   "cell_type": "markdown",
   "metadata": {},
   "source": [
    "## Размещения\n",
    "\n",
    "*Размещением из $n$ по $k$* называется кортеж из $k$ различных элементов из некоторого множества различных $n$ элементов. \n",
    "\n",
    "Количество размещений из $n$ по $k$, обозначаемое $A_{n}^{k}$, равно [убывающему факториалу](https://ru.wikipedia.org/wiki/%D0%A4%D0%B0%D0%BA%D1%82%D0%BE%D1%80%D0%B8%D0%B0%D0%BB#%D0%A3%D0%B1%D1%8B%D0%B2%D0%B0%D1%8E%D1%89%D0%B8%D0%B9_%D1%84%D0%B0%D0%BA%D1%82%D0%BE%D1%80%D0%B8%D0%B0%D0%BB):\n",
    "\n",
    "\\begin{equation}\n",
    "C^k_n \\cdot P_k = A_{n}^{k}=n(n-1) \\cdots (n-k+1) = {\\frac {n!}{(n-k)!}} = \\prod_{i=n-k+1}^n i\n",
    "\\end{equation}"
   ]
  },
  {
   "cell_type": "code",
   "execution_count": 21,
   "metadata": {},
   "outputs": [],
   "source": [
    "def pi_product(n, k):\n",
    "    if k == 1:\n",
    "        return n\n",
    "    else:\n",
    "        return pi_product(n, k - 1) * ( n - k + 1 )"
   ]
  },
  {
   "cell_type": "markdown",
   "metadata": {},
   "source": [
    "## Сочетания\n",
    "\n",
    "_Сочетанием из $n$ по $k$_ называется набор $k$ элементов, выбранных из данного множества, содержащего $n$ различных элементов. \n",
    "\n",
    "\\begin{equation}\n",
    "C_n^k = \\frac{n!}{k!(n - k)!}\n",
    "\\end{equation}"
   ]
  },
  {
   "cell_type": "code",
   "execution_count": 29,
   "metadata": {},
   "outputs": [],
   "source": [
    "def k_newton_binom(n, k):\n",
    "    return round(pi_product(n,k)/permutation(k))"
   ]
  },
  {
   "cell_type": "markdown",
   "metadata": {},
   "source": [
    "## Материалы\n",
    "\n",
    "[Coursera](https://www.coursera.org/learn/kombinatorika-dlya-nachinayushchikh/home/welcome)\n",
    "\n",
    "[Stepik](https://stepik.org/course/4603/syllabus)\n",
    "\n",
    "### Литература \n",
    "\n",
    "1. Н.Я. Виленкин. Комбинаторика. – М.: Наука, 1969.\n",
    "\n",
    "2. Н.Б. Алфутова, А.В. Устинов. Алгебра и теория чисел (сборник задач). – М.: МЦНМО, 2002.\n",
    "\n",
    "3. А.М. Райгородский Комбинаторика и теория вероятностей. - МФТИ, 2012 - 109 c.\n",
    "\n",
    "4. Д. Кнут, Р. Грэхем, О. Паташник. Конкретная математика. Математические основы информатики. М.: Мир, 1998"
   ]
  },
  {
   "cell_type": "code",
   "execution_count": null,
   "metadata": {},
   "outputs": [],
   "source": []
  }
 ],
 "metadata": {
  "kernelspec": {
   "display_name": "Python 3",
   "language": "python",
   "name": "python3"
  },
  "language_info": {
   "codemirror_mode": {
    "name": "ipython",
    "version": 3
   },
   "file_extension": ".py",
   "mimetype": "text/x-python",
   "name": "python",
   "nbconvert_exporter": "python",
   "pygments_lexer": "ipython3",
   "version": "3.7.3"
  }
 },
 "nbformat": 4,
 "nbformat_minor": 2
}
